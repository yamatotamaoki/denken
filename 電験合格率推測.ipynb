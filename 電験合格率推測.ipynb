{
 "cells": [
  {
   "cell_type": "code",
   "execution_count": 7,
   "metadata": {},
   "outputs": [],
   "source": [
    "import numpy as np\n",
    "import matplotlib.pyplot as plt\n",
    "import pandas as pd\n",
    "import seaborn as sns"
   ]
  },
  {
   "cell_type": "code",
   "execution_count": 8,
   "metadata": {},
   "outputs": [
    {
     "data": {
      "text/plain": [
       "'/Applications/anaconda3/lib/python3.7/site-packages/matplotlib/mpl-data/matplotlibrc'"
      ]
     },
     "execution_count": 8,
     "metadata": {},
     "output_type": "execute_result"
    }
   ],
   "source": [
    "import matplotlib\n",
    "matplotlib.matplotlib_fname()"
   ]
  },
  {
   "cell_type": "code",
   "execution_count": 9,
   "metadata": {},
   "outputs": [
    {
     "data": {
      "text/plain": [
       "'/Users/tamakiyamato/.matplotlib'"
      ]
     },
     "execution_count": 9,
     "metadata": {},
     "output_type": "execute_result"
    }
   ],
   "source": [
    "import matplotlib as mpl\n",
    "mpl.get_configdir()"
   ]
  },
  {
   "cell_type": "code",
   "execution_count": 10,
   "metadata": {},
   "outputs": [],
   "source": [
    "from matplotlib import pyplot as plt\n",
    "plt.rcParams['font.family'] = 'IPAPGothic'"
   ]
  },
  {
   "cell_type": "code",
   "execution_count": 56,
   "metadata": {},
   "outputs": [
    {
     "data": {
      "text/html": [
       "<div>\n",
       "<style scoped>\n",
       "    .dataframe tbody tr th:only-of-type {\n",
       "        vertical-align: middle;\n",
       "    }\n",
       "\n",
       "    .dataframe tbody tr th {\n",
       "        vertical-align: top;\n",
       "    }\n",
       "\n",
       "    .dataframe thead th {\n",
       "        text-align: right;\n",
       "    }\n",
       "</style>\n",
       "<table border=\"1\" class=\"dataframe\">\n",
       "  <thead>\n",
       "    <tr style=\"text-align: right;\">\n",
       "      <th></th>\n",
       "      <th>年</th>\n",
       "      <th>理論（％）</th>\n",
       "      <th>電力（％）</th>\n",
       "      <th>機械（％）</th>\n",
       "      <th>法規（％）</th>\n",
       "    </tr>\n",
       "  </thead>\n",
       "  <tbody>\n",
       "    <tr>\n",
       "      <th>11</th>\n",
       "      <td>2008</td>\n",
       "      <td>18.0</td>\n",
       "      <td>19.8</td>\n",
       "      <td>21.9</td>\n",
       "      <td>36.3</td>\n",
       "    </tr>\n",
       "    <tr>\n",
       "      <th>10</th>\n",
       "      <td>2009</td>\n",
       "      <td>18.8</td>\n",
       "      <td>23.3</td>\n",
       "      <td>19.7</td>\n",
       "      <td>28.3</td>\n",
       "    </tr>\n",
       "    <tr>\n",
       "      <th>9</th>\n",
       "      <td>2010</td>\n",
       "      <td>19.6</td>\n",
       "      <td>12.7</td>\n",
       "      <td>11.6</td>\n",
       "      <td>20.4</td>\n",
       "    </tr>\n",
       "    <tr>\n",
       "      <th>8</th>\n",
       "      <td>2011</td>\n",
       "      <td>11.9</td>\n",
       "      <td>14.5</td>\n",
       "      <td>17.6</td>\n",
       "      <td>12.1</td>\n",
       "    </tr>\n",
       "    <tr>\n",
       "      <th>7</th>\n",
       "      <td>2012</td>\n",
       "      <td>18.4</td>\n",
       "      <td>24.8</td>\n",
       "      <td>10.0</td>\n",
       "      <td>9.8</td>\n",
       "    </tr>\n",
       "    <tr>\n",
       "      <th>6</th>\n",
       "      <td>2013</td>\n",
       "      <td>14.3</td>\n",
       "      <td>12.4</td>\n",
       "      <td>17.1</td>\n",
       "      <td>19.4</td>\n",
       "    </tr>\n",
       "    <tr>\n",
       "      <th>5</th>\n",
       "      <td>2014</td>\n",
       "      <td>13.4</td>\n",
       "      <td>16.4</td>\n",
       "      <td>10.4</td>\n",
       "      <td>11.6</td>\n",
       "    </tr>\n",
       "    <tr>\n",
       "      <th>4</th>\n",
       "      <td>2015</td>\n",
       "      <td>14.4</td>\n",
       "      <td>15.1</td>\n",
       "      <td>6.2</td>\n",
       "      <td>13.7</td>\n",
       "    </tr>\n",
       "    <tr>\n",
       "      <th>3</th>\n",
       "      <td>2016</td>\n",
       "      <td>14.6</td>\n",
       "      <td>8.7</td>\n",
       "      <td>17.0</td>\n",
       "      <td>9.0</td>\n",
       "    </tr>\n",
       "    <tr>\n",
       "      <th>2</th>\n",
       "      <td>2017</td>\n",
       "      <td>15.5</td>\n",
       "      <td>9.1</td>\n",
       "      <td>11.6</td>\n",
       "      <td>9.3</td>\n",
       "    </tr>\n",
       "    <tr>\n",
       "      <th>1</th>\n",
       "      <td>2018</td>\n",
       "      <td>11.6</td>\n",
       "      <td>17.8</td>\n",
       "      <td>13.8</td>\n",
       "      <td>6.6</td>\n",
       "    </tr>\n",
       "    <tr>\n",
       "      <th>0</th>\n",
       "      <td>2019</td>\n",
       "      <td>13.7</td>\n",
       "      <td>13.7</td>\n",
       "      <td>20.1</td>\n",
       "      <td>9.6</td>\n",
       "    </tr>\n",
       "  </tbody>\n",
       "</table>\n",
       "</div>"
      ],
      "text/plain": [
       "       年  理論（％）  電力（％）  機械（％）  法規（％）\n",
       "11  2008   18.0   19.8   21.9   36.3\n",
       "10  2009   18.8   23.3   19.7   28.3\n",
       "9   2010   19.6   12.7   11.6   20.4\n",
       "8   2011   11.9   14.5   17.6   12.1\n",
       "7   2012   18.4   24.8   10.0    9.8\n",
       "6   2013   14.3   12.4   17.1   19.4\n",
       "5   2014   13.4   16.4   10.4   11.6\n",
       "4   2015   14.4   15.1    6.2   13.7\n",
       "3   2016   14.6    8.7   17.0    9.0\n",
       "2   2017   15.5    9.1   11.6    9.3\n",
       "1   2018   11.6   17.8   13.8    6.6\n",
       "0   2019   13.7   13.7   20.1    9.6"
      ]
     },
     "metadata": {},
     "output_type": "display_data"
    }
   ],
   "source": [
    "df = pd.read_csv(\"tabel_3.csv\")\n",
    "df1 = df[:-1][::-1]\n",
    "#display(df)\n",
    "display(df1)"
   ]
  },
  {
   "cell_type": "code",
   "execution_count": 59,
   "metadata": {},
   "outputs": [
    {
     "data": {
      "image/png": "[encoded data removed]",
      "text/plain": [
       "<Figure size 432x288 with 1 Axes>"
      ]
     },
     "metadata": {
      "needs_background": "light"
     },
     "output_type": "display_data"
    }
   ],
   "source": [
    "year = df1[\"年\"]\n",
    "riron = df1[\"理論（％）\"]\n",
    "denryoku = df1[\"電力（％）\"]\n",
    "kikai = df1[\"機械（％）\"]\n",
    "houki = df1[\"法規（％）\"]\n",
    "plt.plot(year,riron,label=\"理論\")\n",
    "plt.plot(year,denryoku,label=\"電力\")\n",
    "plt.plot(year,kikai,label=\"機械\")\n",
    "plt.plot(year,houki,label=\"法規\")\n",
    "plt.legend(loc=\"upper right\")\n",
    "plt.ylabel(\"合格率(％)\")\n",
    "plt.xlabel(\"年度\")\n",
    "plt.title(\"電験科目別合格率推移\")\n",
    "plt.show()"
   ]
  },
  {
   "cell_type": "code",
   "execution_count": 67,
   "metadata": {},
   "outputs": [
    {
     "data": {
      "image/png": "[encoded data removed]",
      "text/plain": [
       "<Figure size 432x288 with 1 Axes>"
      ]
     },
     "metadata": {
      "needs_background": "light"
     },
     "output_type": "display_data"
    }
   ],
   "source": [
    "plt.scatter(year,riron,label=\"理論\")\n",
    "plt.scatter(year,denryoku,label=\"電力\")\n",
    "plt.scatter(year,kikai,label=\"機械\")\n",
    "plt.scatter(year,houki,label=\"法規\")\n",
    "plt.xlabel(\"年度\")\n",
    "plt.ylabel(\"合格率(％)\")\n",
    "plt.legend(loc=\"upper right\")\n",
    "plt.show()"
   ]
  },
  {
   "cell_type": "code",
   "execution_count": 68,
   "metadata": {},
   "outputs": [],
   "source": [
    "from sklearn.linear_model import LinearRegression"
   ]
  },
  {
   "cell_type": "code",
   "execution_count": 96,
   "metadata": {},
   "outputs": [
    {
     "name": "stdout",
     "output_type": "stream",
     "text": [
      "[[2008.0], [2009.0], [2010.0], [2011.0], [2012.0], [2013.0], [2014.0], [2015.0], [2016.0], [2017.0], [2018.0], [2019.0]]\n",
      "[18.0, 18.8, 19.6, 11.9, 18.4, 14.3, 13.4, 14.4, 14.6, 15.5, 11.6, 13.7]\n"
     ]
    }
   ],
   "source": [
    "year_list = [[float(x)] for x in year]\n",
    "riron_list = [float(y) for y in riron]\n",
    "print(year_list)\n",
    "print(riron_list)"
   ]
  },
  {
   "cell_type": "code",
   "execution_count": 98,
   "metadata": {},
   "outputs": [
    {
     "name": "stdout",
     "output_type": "stream",
     "text": [
      "1002.3874125874125\n",
      "[-0.49020979]\n",
      "[12.16363636]\n"
     ]
    }
   ],
   "source": [
    "model = LinearRegression()\n",
    "model.fit(year_list,riron_list)\n",
    "print(model.intercept_)\n",
    "print(model.coef_)\n",
    "y_pred = model.predict([[2020]])\n",
    "print(y_pred)"
   ]
  },
  {
   "cell_type": "code",
   "execution_count": null,
   "metadata": {},
   "outputs": [],
   "source": []
  }
 ],
 "metadata": {
  "kernelspec": {
   "display_name": "Python 3",
   "language": "python",
   "name": "python3"
  },
  "language_info": {
   "codemirror_mode": {
    "name": "ipython",
    "version": 3
   },
   "file_extension": ".py",
   "mimetype": "text/x-python",
   "name": "python",
   "nbconvert_exporter": "python",
   "pygments_lexer": "ipython3",
   "version": "3.7.6"
  }
 },
 "nbformat": 4,
 "nbformat_minor": 4
}
