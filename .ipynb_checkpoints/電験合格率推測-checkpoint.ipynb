{
 "cells": [
  {
   "cell_type": "code",
   "execution_count": 12,
   "metadata": {},
   "outputs": [],
   "source": [
    "import numpy as np\n",
    "import matplotlib.pyplot as plt\n",
    "import pandas as pd\n",
    "import seaborn as sns"
   ]
  },
  {
   "cell_type": "code",
   "execution_count": 13,
   "metadata": {},
   "outputs": [
    {
     "data": {
      "text/plain": [
       "'/Applications/anaconda3/lib/python3.7/site-packages/matplotlib/mpl-data/matplotlibrc'"
      ]
     },
     "execution_count": 13,
     "metadata": {},
     "output_type": "execute_result"
    }
   ],
   "source": [
    "import matplotlib\n",
    "matplotlib.matplotlib_fname()"
   ]
  },
  {
   "cell_type": "code",
   "execution_count": 14,
   "metadata": {},
   "outputs": [
    {
     "data": {
      "text/plain": [
       "'/Users/tamakiyamato/.matplotlib'"
      ]
     },
     "execution_count": 14,
     "metadata": {},
     "output_type": "execute_result"
    }
   ],
   "source": [
    "import matplotlib as mpl\n",
    "mpl.get_configdir()"
   ]
  },
  {
   "cell_type": "code",
   "execution_count": 15,
   "metadata": {},
   "outputs": [],
   "source": [
    "from matplotlib import pyplot as plt\n",
    "plt.rcParams['font.family'] = 'IPAPGothic'"
   ]
  },
  {
   "cell_type": "code",
   "execution_count": 16,
   "metadata": {},
   "outputs": [
    {
     "data": {
      "text/html": [
       "<div>\n",
       "<style scoped>\n",
       "    .dataframe tbody tr th:only-of-type {\n",
       "        vertical-align: middle;\n",
       "    }\n",
       "\n",
       "    .dataframe tbody tr th {\n",
       "        vertical-align: top;\n",
       "    }\n",
       "\n",
       "    .dataframe thead th {\n",
       "        text-align: right;\n",
       "    }\n",
       "</style>\n",
       "<table border=\"1\" class=\"dataframe\">\n",
       "  <thead>\n",
       "    <tr style=\"text-align: right;\">\n",
       "      <th></th>\n",
       "      <th>年</th>\n",
       "      <th>理論（％）</th>\n",
       "      <th>電力（％）</th>\n",
       "      <th>機械（％）</th>\n",
       "      <th>法規（％）</th>\n",
       "    </tr>\n",
       "  </thead>\n",
       "  <tbody>\n",
       "    <tr>\n",
       "      <th>11</th>\n",
       "      <td>2008</td>\n",
       "      <td>18.0</td>\n",
       "      <td>19.8</td>\n",
       "      <td>21.9</td>\n",
       "      <td>36.3</td>\n",
       "    </tr>\n",
       "    <tr>\n",
       "      <th>10</th>\n",
       "      <td>2009</td>\n",
       "      <td>18.8</td>\n",
       "      <td>23.3</td>\n",
       "      <td>19.7</td>\n",
       "      <td>28.3</td>\n",
       "    </tr>\n",
       "    <tr>\n",
       "      <th>9</th>\n",
       "      <td>2010</td>\n",
       "      <td>19.6</td>\n",
       "      <td>12.7</td>\n",
       "      <td>11.6</td>\n",
       "      <td>20.4</td>\n",
       "    </tr>\n",
       "    <tr>\n",
       "      <th>8</th>\n",
       "      <td>2011</td>\n",
       "      <td>11.9</td>\n",
       "      <td>14.5</td>\n",
       "      <td>17.6</td>\n",
       "      <td>12.1</td>\n",
       "    </tr>\n",
       "    <tr>\n",
       "      <th>7</th>\n",
       "      <td>2012</td>\n",
       "      <td>18.4</td>\n",
       "      <td>24.8</td>\n",
       "      <td>10.0</td>\n",
       "      <td>9.8</td>\n",
       "    </tr>\n",
       "    <tr>\n",
       "      <th>6</th>\n",
       "      <td>2013</td>\n",
       "      <td>14.3</td>\n",
       "      <td>12.4</td>\n",
       "      <td>17.1</td>\n",
       "      <td>19.4</td>\n",
       "    </tr>\n",
       "    <tr>\n",
       "      <th>5</th>\n",
       "      <td>2014</td>\n",
       "      <td>13.4</td>\n",
       "      <td>16.4</td>\n",
       "      <td>10.4</td>\n",
       "      <td>11.6</td>\n",
       "    </tr>\n",
       "    <tr>\n",
       "      <th>4</th>\n",
       "      <td>2015</td>\n",
       "      <td>14.4</td>\n",
       "      <td>15.1</td>\n",
       "      <td>6.2</td>\n",
       "      <td>13.7</td>\n",
       "    </tr>\n",
       "    <tr>\n",
       "      <th>3</th>\n",
       "      <td>2016</td>\n",
       "      <td>14.6</td>\n",
       "      <td>8.7</td>\n",
       "      <td>17.0</td>\n",
       "      <td>9.0</td>\n",
       "    </tr>\n",
       "    <tr>\n",
       "      <th>2</th>\n",
       "      <td>2017</td>\n",
       "      <td>15.5</td>\n",
       "      <td>9.1</td>\n",
       "      <td>11.6</td>\n",
       "      <td>9.3</td>\n",
       "    </tr>\n",
       "    <tr>\n",
       "      <th>1</th>\n",
       "      <td>2018</td>\n",
       "      <td>11.6</td>\n",
       "      <td>17.8</td>\n",
       "      <td>13.8</td>\n",
       "      <td>6.6</td>\n",
       "    </tr>\n",
       "    <tr>\n",
       "      <th>0</th>\n",
       "      <td>2019</td>\n",
       "      <td>13.7</td>\n",
       "      <td>13.7</td>\n",
       "      <td>20.1</td>\n",
       "      <td>9.6</td>\n",
       "    </tr>\n",
       "  </tbody>\n",
       "</table>\n",
       "</div>"
      ],
      "text/plain": [
       "       年  理論（％）  電力（％）  機械（％）  法規（％）\n",
       "11  2008   18.0   19.8   21.9   36.3\n",
       "10  2009   18.8   23.3   19.7   28.3\n",
       "9   2010   19.6   12.7   11.6   20.4\n",
       "8   2011   11.9   14.5   17.6   12.1\n",
       "7   2012   18.4   24.8   10.0    9.8\n",
       "6   2013   14.3   12.4   17.1   19.4\n",
       "5   2014   13.4   16.4   10.4   11.6\n",
       "4   2015   14.4   15.1    6.2   13.7\n",
       "3   2016   14.6    8.7   17.0    9.0\n",
       "2   2017   15.5    9.1   11.6    9.3\n",
       "1   2018   11.6   17.8   13.8    6.6\n",
       "0   2019   13.7   13.7   20.1    9.6"
      ]
     },
     "metadata": {},
     "output_type": "display_data"
    }
   ],
   "source": [
    "df = pd.read_csv(\"tabel_3.csv\")\n",
    "df1 = df[:-1][::-1]\n",
    "#display(df)\n",
    "display(df1)"
   ]
  },
  {
   "cell_type": "code",
   "execution_count": 17,
   "metadata": {
    "scrolled": false
   },
   "outputs": [
    {
     "name": "stderr",
     "output_type": "stream",
     "text": [
      "/Applications/anaconda3/lib/python3.7/site-packages/matplotlib/backends/backend_agg.py:211: RuntimeWarning: Glyph 38651 missing from current font.\n",
      "  font.set_text(s, 0.0, flags=flags)\n",
      "/Applications/anaconda3/lib/python3.7/site-packages/matplotlib/backends/backend_agg.py:211: RuntimeWarning: Glyph 39443 missing from current font.\n",
      "  font.set_text(s, 0.0, flags=flags)\n",
      "/Applications/anaconda3/lib/python3.7/site-packages/matplotlib/backends/backend_agg.py:211: RuntimeWarning: Glyph 31185 missing from current font.\n",
      "  font.set_text(s, 0.0, flags=flags)\n",
      "/Applications/anaconda3/lib/python3.7/site-packages/matplotlib/backends/backend_agg.py:211: RuntimeWarning: Glyph 30446 missing from current font.\n",
      "  font.set_text(s, 0.0, flags=flags)\n",
      "/Applications/anaconda3/lib/python3.7/site-packages/matplotlib/backends/backend_agg.py:211: RuntimeWarning: Glyph 21029 missing from current font.\n",
      "  font.set_text(s, 0.0, flags=flags)\n",
      "/Applications/anaconda3/lib/python3.7/site-packages/matplotlib/backends/backend_agg.py:211: RuntimeWarning: Glyph 21512 missing from current font.\n",
      "  font.set_text(s, 0.0, flags=flags)\n",
      "/Applications/anaconda3/lib/python3.7/site-packages/matplotlib/backends/backend_agg.py:211: RuntimeWarning: Glyph 26684 missing from current font.\n",
      "  font.set_text(s, 0.0, flags=flags)\n",
      "/Applications/anaconda3/lib/python3.7/site-packages/matplotlib/backends/backend_agg.py:211: RuntimeWarning: Glyph 29575 missing from current font.\n",
      "  font.set_text(s, 0.0, flags=flags)\n",
      "/Applications/anaconda3/lib/python3.7/site-packages/matplotlib/backends/backend_agg.py:211: RuntimeWarning: Glyph 25512 missing from current font.\n",
      "  font.set_text(s, 0.0, flags=flags)\n",
      "/Applications/anaconda3/lib/python3.7/site-packages/matplotlib/backends/backend_agg.py:211: RuntimeWarning: Glyph 31227 missing from current font.\n",
      "  font.set_text(s, 0.0, flags=flags)\n",
      "/Applications/anaconda3/lib/python3.7/site-packages/matplotlib/backends/backend_agg.py:211: RuntimeWarning: Glyph 24180 missing from current font.\n",
      "  font.set_text(s, 0.0, flags=flags)\n",
      "/Applications/anaconda3/lib/python3.7/site-packages/matplotlib/backends/backend_agg.py:211: RuntimeWarning: Glyph 24230 missing from current font.\n",
      "  font.set_text(s, 0.0, flags=flags)\n",
      "/Applications/anaconda3/lib/python3.7/site-packages/matplotlib/backends/backend_agg.py:180: RuntimeWarning: Glyph 24180 missing from current font.\n",
      "  font.set_text(s, 0, flags=flags)\n",
      "/Applications/anaconda3/lib/python3.7/site-packages/matplotlib/backends/backend_agg.py:180: RuntimeWarning: Glyph 24230 missing from current font.\n",
      "  font.set_text(s, 0, flags=flags)\n",
      "/Applications/anaconda3/lib/python3.7/site-packages/matplotlib/backends/backend_agg.py:211: RuntimeWarning: Glyph 65285 missing from current font.\n",
      "  font.set_text(s, 0.0, flags=flags)\n",
      "/Applications/anaconda3/lib/python3.7/site-packages/matplotlib/backends/backend_agg.py:180: RuntimeWarning: Glyph 21512 missing from current font.\n",
      "  font.set_text(s, 0, flags=flags)\n",
      "/Applications/anaconda3/lib/python3.7/site-packages/matplotlib/backends/backend_agg.py:180: RuntimeWarning: Glyph 26684 missing from current font.\n",
      "  font.set_text(s, 0, flags=flags)\n",
      "/Applications/anaconda3/lib/python3.7/site-packages/matplotlib/backends/backend_agg.py:180: RuntimeWarning: Glyph 29575 missing from current font.\n",
      "  font.set_text(s, 0, flags=flags)\n",
      "/Applications/anaconda3/lib/python3.7/site-packages/matplotlib/backends/backend_agg.py:180: RuntimeWarning: Glyph 65285 missing from current font.\n",
      "  font.set_text(s, 0, flags=flags)\n",
      "/Applications/anaconda3/lib/python3.7/site-packages/matplotlib/backends/backend_agg.py:180: RuntimeWarning: Glyph 38651 missing from current font.\n",
      "  font.set_text(s, 0, flags=flags)\n",
      "/Applications/anaconda3/lib/python3.7/site-packages/matplotlib/backends/backend_agg.py:180: RuntimeWarning: Glyph 39443 missing from current font.\n",
      "  font.set_text(s, 0, flags=flags)\n",
      "/Applications/anaconda3/lib/python3.7/site-packages/matplotlib/backends/backend_agg.py:180: RuntimeWarning: Glyph 31185 missing from current font.\n",
      "  font.set_text(s, 0, flags=flags)\n",
      "/Applications/anaconda3/lib/python3.7/site-packages/matplotlib/backends/backend_agg.py:180: RuntimeWarning: Glyph 30446 missing from current font.\n",
      "  font.set_text(s, 0, flags=flags)\n",
      "/Applications/anaconda3/lib/python3.7/site-packages/matplotlib/backends/backend_agg.py:180: RuntimeWarning: Glyph 21029 missing from current font.\n",
      "  font.set_text(s, 0, flags=flags)\n",
      "/Applications/anaconda3/lib/python3.7/site-packages/matplotlib/backends/backend_agg.py:180: RuntimeWarning: Glyph 25512 missing from current font.\n",
      "  font.set_text(s, 0, flags=flags)\n",
      "/Applications/anaconda3/lib/python3.7/site-packages/matplotlib/backends/backend_agg.py:180: RuntimeWarning: Glyph 31227 missing from current font.\n",
      "  font.set_text(s, 0, flags=flags)\n",
      "/Applications/anaconda3/lib/python3.7/site-packages/matplotlib/backends/backend_agg.py:211: RuntimeWarning: Glyph 29702 missing from current font.\n",
      "  font.set_text(s, 0.0, flags=flags)\n",
      "/Applications/anaconda3/lib/python3.7/site-packages/matplotlib/backends/backend_agg.py:211: RuntimeWarning: Glyph 35542 missing from current font.\n",
      "  font.set_text(s, 0.0, flags=flags)\n",
      "/Applications/anaconda3/lib/python3.7/site-packages/matplotlib/backends/backend_agg.py:211: RuntimeWarning: Glyph 21147 missing from current font.\n",
      "  font.set_text(s, 0.0, flags=flags)\n",
      "/Applications/anaconda3/lib/python3.7/site-packages/matplotlib/backends/backend_agg.py:211: RuntimeWarning: Glyph 27231 missing from current font.\n",
      "  font.set_text(s, 0.0, flags=flags)\n",
      "/Applications/anaconda3/lib/python3.7/site-packages/matplotlib/backends/backend_agg.py:211: RuntimeWarning: Glyph 26800 missing from current font.\n",
      "  font.set_text(s, 0.0, flags=flags)\n",
      "/Applications/anaconda3/lib/python3.7/site-packages/matplotlib/backends/backend_agg.py:211: RuntimeWarning: Glyph 27861 missing from current font.\n",
      "  font.set_text(s, 0.0, flags=flags)\n",
      "/Applications/anaconda3/lib/python3.7/site-packages/matplotlib/backends/backend_agg.py:211: RuntimeWarning: Glyph 35215 missing from current font.\n",
      "  font.set_text(s, 0.0, flags=flags)\n",
      "/Applications/anaconda3/lib/python3.7/site-packages/matplotlib/backends/backend_agg.py:180: RuntimeWarning: Glyph 29702 missing from current font.\n",
      "  font.set_text(s, 0, flags=flags)\n",
      "/Applications/anaconda3/lib/python3.7/site-packages/matplotlib/backends/backend_agg.py:180: RuntimeWarning: Glyph 35542 missing from current font.\n",
      "  font.set_text(s, 0, flags=flags)\n",
      "/Applications/anaconda3/lib/python3.7/site-packages/matplotlib/backends/backend_agg.py:180: RuntimeWarning: Glyph 21147 missing from current font.\n",
      "  font.set_text(s, 0, flags=flags)\n",
      "/Applications/anaconda3/lib/python3.7/site-packages/matplotlib/backends/backend_agg.py:180: RuntimeWarning: Glyph 27231 missing from current font.\n",
      "  font.set_text(s, 0, flags=flags)\n",
      "/Applications/anaconda3/lib/python3.7/site-packages/matplotlib/backends/backend_agg.py:180: RuntimeWarning: Glyph 26800 missing from current font.\n",
      "  font.set_text(s, 0, flags=flags)\n",
      "/Applications/anaconda3/lib/python3.7/site-packages/matplotlib/backends/backend_agg.py:180: RuntimeWarning: Glyph 27861 missing from current font.\n",
      "  font.set_text(s, 0, flags=flags)\n",
      "/Applications/anaconda3/lib/python3.7/site-packages/matplotlib/backends/backend_agg.py:180: RuntimeWarning: Glyph 35215 missing from current font.\n",
      "  font.set_text(s, 0, flags=flags)\n"
     ]
    },
    {
     "data": {
      "image/png": "[encoded data removed]",
      "text/plain": [
       "<Figure size 432x288 with 1 Axes>"
      ]
     },
     "metadata": {
      "needs_background": "light"
     },
     "output_type": "display_data"
    }
   ],
   "source": [
    "year = df1[\"年\"]\n",
    "riron = df1[\"理論（％）\"]\n",
    "denryoku = df1[\"電力（％）\"]\n",
    "kikai = df1[\"機械（％）\"]\n",
    "houki = df1[\"法規（％）\"]\n",
    "plt.plot(year,riron,label=\"理論\")\n",
    "plt.plot(year,denryoku,label=\"電力\")\n",
    "plt.plot(year,kikai,label=\"機械\")\n",
    "plt.plot(year,houki,label=\"法規\")\n",
    "plt.legend(loc=\"upper right\")\n",
    "plt.ylabel(\"合格率(％)\")\n",
    "plt.xlabel(\"年度\")\n",
    "plt.title(\"電験科目別合格率推移\")\n",
    "plt.show()"
   ]
  },
  {
   "cell_type": "code",
   "execution_count": 18,
   "metadata": {},
   "outputs": [
    {
     "data": {
      "image/png": "[encoded data removed]",
      "text/plain": [
       "<Figure size 432x288 with 1 Axes>"
      ]
     },
     "metadata": {
      "needs_background": "light"
     },
     "output_type": "display_data"
    }
   ],
   "source": [
    "plt.scatter(year,riron,label=\"理論\")\n",
    "plt.scatter(year,denryoku,label=\"電力\")\n",
    "plt.scatter(year,kikai,label=\"機械\")\n",
    "plt.scatter(year,houki,label=\"法規\")\n",
    "plt.xlabel(\"年度\")\n",
    "plt.ylabel(\"合格率(％)\")\n",
    "plt.legend(loc=\"upper right\")\n",
    "plt.show()"
   ]
  },
  {
   "cell_type": "code",
   "execution_count": 19,
   "metadata": {},
   "outputs": [],
   "source": [
    "from sklearn.linear_model import LinearRegression"
   ]
  },
  {
   "cell_type": "code",
   "execution_count": 24,
   "metadata": {},
   "outputs": [
    {
     "name": "stdout",
     "output_type": "stream",
     "text": [
      "[[2008.0], [2009.0], [2010.0], [2011.0], [2012.0], [2013.0], [2014.0], [2015.0], [2016.0], [2017.0], [2018.0], [2019.0]]\n",
      "[18.0, 18.8, 19.6, 11.9, 18.4, 14.3, 13.4, 14.4, 14.6, 15.5, 11.6, 13.7]\n",
      "[19.8, 23.3, 12.7, 14.5, 24.8, 12.4, 16.4, 15.1, 8.7, 9.1, 17.8, 13.7]\n",
      "[21.9, 19.7, 11.6, 17.6, 10.0, 17.1, 10.4, 6.2, 17.0, 11.6, 13.8, 20.1]\n",
      "[36.3, 28.3, 20.4, 12.1, 9.8, 19.4, 11.6, 13.7, 9.0, 9.3, 6.6, 9.6]\n"
     ]
    }
   ],
   "source": [
    "year_list = [[float(x)] for x in year]\n",
    "riron_list = [float(y) for y in riron]\n",
    "denryoku_list = [float(d) for d in denryoku]\n",
    "kikai_list = [float(k) for k in kikai]\n",
    "houki_list = [float(h) for h in houki]\n",
    "print(year_list)\n",
    "print(riron_list)\n",
    "print(denryoku_list)\n",
    "print(kikai_list)\n",
    "print(houki_list)"
   ]
  },
  {
   "cell_type": "code",
   "execution_count": 23,
   "metadata": {},
   "outputs": [
    {
     "name": "stdout",
     "output_type": "stream",
     "text": [
      "1002.3874125874125\n",
      "[-0.49020979]\n",
      "[12.16363636]\n",
      "2020年度の理論科目の合格率は 12 ％です。\n"
     ]
    }
   ],
   "source": [
    "#2020年度理論科目合格率予想\n",
    "model = LinearRegression()\n",
    "model.fit(year_list,riron_list)\n",
    "print(model.intercept_)\n",
    "print(model.coef_)\n",
    "y_pred = model.predict([[2020]])\n",
    "print(y_pred)\n",
    "print(\"2020年度の理論科目の合格率は\",int(y_pred),\"％です。\")"
   ]
  },
  {
   "cell_type": "code",
   "execution_count": 34,
   "metadata": {},
   "outputs": [
    {
     "name": "stdout",
     "output_type": "stream",
     "text": [
      "1394.8687645687642\n",
      "[-0.68496503]\n",
      "[11.23939394]\n",
      "2020年度の電力科目の合格率は 11 ％です。\n"
     ]
    }
   ],
   "source": [
    "#2020年度電力科目合格率予想\n",
    "model1 = LinearRegression()\n",
    "model1.fit(year_list,denryoku_list)\n",
    "print(model1.intercept_)\n",
    "print(model1.coef_)\n",
    "y_pred1 = model1.predict([[2020]])\n",
    "print(y_pred1)\n",
    "print(\"2020年度の電力科目の合格率は\",int(y_pred1),\"％です。\")"
   ]
  },
  {
   "cell_type": "code",
   "execution_count": 33,
   "metadata": {},
   "outputs": [
    {
     "name": "stdout",
     "output_type": "stream",
     "text": [
      "676.5297202797198\n",
      "[-0.32867133]\n",
      "[12.61363636]\n",
      "2020年度の機械科目の合格率は 12 ％です。\n"
     ]
    }
   ],
   "source": [
    "#2020年度機械科目合格率予想\n",
    "model2 = LinearRegression()\n",
    "model2.fit(year_list,kikai_list)\n",
    "print(model2.intercept_)\n",
    "print(model2.coef_)\n",
    "y_pred2 = model2.predict([[2020]])\n",
    "print(y_pred2)\n",
    "print(\"2020年度の機械科目の合格率は\",int(y_pred2),\"％です。\")"
   ]
  },
  {
   "cell_type": "code",
   "execution_count": 37,
   "metadata": {},
   "outputs": [
    {
     "name": "stdout",
     "output_type": "stream",
     "text": [
      "4086.861655011653\n",
      "[-2.02202797]\n",
      "[ 2.36515152 -1.67890443]\n"
     ]
    }
   ],
   "source": [
    "#2020年度法規科目合格率予想\n",
    "model3 = LinearRegression()\n",
    "model3.fit(year_list,houki_list)\n",
    "print(model3.intercept_)\n",
    "print(model3.coef_)\n",
    "y_pred3 = model3.predict([[2020]])\n",
    "print(y_pred3)\n",
    "#print(\"2020年度の法規科目の合格率は\",int(y_pred3),\"％です。\")"
   ]
  },
  {
   "cell_type": "code",
   "execution_count": null,
   "metadata": {},
   "outputs": [],
   "source": []
  }
 ],
 "metadata": {
  "kernelspec": {
   "display_name": "Python 3",
   "language": "python",
   "name": "python3"
  },
  "language_info": {
   "codemirror_mode": {
    "name": "ipython",
    "version": 3
   },
   "file_extension": ".py",
   "mimetype": "text/x-python",
   "name": "python",
   "nbconvert_exporter": "python",
   "pygments_lexer": "ipython3",
   "version": "3.7.6"
  }
 },
 "nbformat": 4,
 "nbformat_minor": 4
}
